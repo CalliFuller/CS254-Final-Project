{
 "cells": [
  {
   "cell_type": "markdown",
   "metadata": {},
   "source": [
    "# Machine Learning Algorithms for Audio Classification"
   ]
  },
  {
   "cell_type": "code",
   "execution_count": null,
   "metadata": {},
   "outputs": [],
   "source": [
    "import numpy as np\n",
    "import pandas as pd\n",
    "import matplotlib.pyplot as plt\n",
    "import librosa\n",
    "import librosa.display\n",
    "import sklearn as sk\n",
    "\n",
    "\n",
    "%matplotlib inline"
   ]
  },
  {
   "cell_type": "code",
   "execution_count": null,
   "metadata": {},
   "outputs": [],
   "source": [
    "audio_data = np.load(\"audio_data.npy\")\n",
    "audio_data = audio_data.reshape(24 , 568800)\n",
    "features = []\n",
    "# wrong, should be all entries with an additional gender column\n",
    "for i in range(24):\n",
    "    if i % 2 == 0:\n",
    "        label = \"Male\" #male\n",
    "    else:\n",
    "        label = \"Female\" #female\n",
    "    features.append([audio_data[i], label])\n",
    "\n",
    "\n",
    "    \n",
    "feature_df = pd.DataFrame(features, columns = [\"mfcc\", \"gender\"])\n",
    "\n",
    "feature_df.head()"
   ]
  },
  {
   "cell_type": "code",
   "execution_count": null,
   "metadata": {},
   "outputs": [],
   "source": [
    "X = np.array(feature_df.mfcc.tolist())\n",
    "\n",
    "Y = np.array(feature_df.gender.tolist())\n",
    "\n",
    "x_train, x_test, y_train, y_test = sk.model_selection.train_test_split(X, Y, test_size=0.25, random_state=0)\n",
    "\n",
    "svm = sk.svm.SVC(kernel='linear')\n",
    "svm.fit(x_train, y_train)\n",
    "predictions = svm.predict(x_test)\n",
    "print(predictions)\n",
    "\n",
    "cm = sk.metrics.confusion_matrix(y_test, predictions)\n",
    "print(cm)\n",
    "df = pd.DataFrame(cm, columns=Y[:2])\n",
    "plt.figure(figsize=(20,4))\n",
    "plt.imshow(cm)\n",
    "plt.title(\"Confusion Matrix\")\n",
    "plt.show()"
   ]
  },
  {
   "cell_type": "code",
   "execution_count": null,
   "metadata": {},
   "outputs": [],
   "source": [
    "def precision(confmatrix):\n",
    "    # precision = tp/(tp+fp)\n",
    "    tp = np.diag(cm)\n",
    "    fp = np.sum(cm, axis=0) - tp\n",
    "    precision = np.mean(tp/(tp+fp))\n",
    "    return precision\n",
    "\n",
    "svmprec = precision(cm)\n",
    "\n",
    "print(\"Precision: \" + str(svmprec))\n",
    "cr = sk.metrics.classification_report(y_test, predictions)\n",
    "print(cr)"
   ]
  }
 ],
 "metadata": {
  "kernelspec": {
   "display_name": "Python 3",
   "language": "python",
   "name": "python3"
  },
  "language_info": {
   "codemirror_mode": {
    "name": "ipython",
    "version": 3
   },
   "file_extension": ".py",
   "mimetype": "text/x-python",
   "name": "python",
   "nbconvert_exporter": "python",
   "pygments_lexer": "ipython3",
   "version": "3.8.3"
  }
 },
 "nbformat": 4,
 "nbformat_minor": 4
}
