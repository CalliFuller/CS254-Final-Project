{
 "metadata": {
  "language_info": {
   "codemirror_mode": {
    "name": "ipython",
    "version": 3
   },
   "file_extension": ".py",
   "mimetype": "text/x-python",
   "name": "python",
   "nbconvert_exporter": "python",
   "pygments_lexer": "ipython3",
   "version": "3.8.5-final"
  },
  "orig_nbformat": 2,
  "kernelspec": {
   "name": "Python 3.8.5 64-bit",
   "display_name": "Python 3.8.5 64-bit",
   "metadata": {
    "interpreter": {
     "hash": "918ffa32da3c3f61372b4b66394fa0cbc768f3fc62b4832b9730019a87d94d74"
    }
   }
  }
 },
 "nbformat": 4,
 "nbformat_minor": 2,
 "cells": [
  {
   "cell_type": "code",
   "execution_count": 1,
   "metadata": {},
   "outputs": [],
   "source": [
    "import numpy as np\n",
    "import pandas as pd\n",
    "import matplotlib.pyplot as plt\n",
    "import librosa\n",
    "import librosa.display\n",
    "import tensorflow as tf\n",
    "from pydub import AudioSegment\n",
    "\n",
    "%matplotlib inline"
   ]
  },
  {
   "source": [
    "## First we must pad our dataset to have audio clips of the same length for all of our samples."
   ],
   "cell_type": "markdown",
   "metadata": {}
  },
  {
   "cell_type": "code",
   "execution_count": 5,
   "metadata": {},
   "outputs": [
    {
     "output_type": "execute_result",
     "data": {
      "text/plain": [
       "(20, 285)"
      ]
     },
     "metadata": {},
     "execution_count": 5
    }
   ],
   "source": [
    "# Before padding MFCC shape\n",
    "\n",
    "audio_file_name = 'voice_data/Actor_01/03-01-01-01-01-01-01.wav'\n",
    "y, sr = librosa.load(audio_file_name, sr=44100)\n",
    "mfcc = librosa.feature.mfcc(y=y, sr=sr)\n",
    "mfcc.shape"
   ]
  },
  {
   "cell_type": "code",
   "execution_count": 6,
   "metadata": {},
   "outputs": [],
   "source": [
    "# Padding the audio files so shape is the same for all audio entries\n",
    "\n",
    "voice_data_dir = \"voice_data\"\n",
    "dir_actors = os.listdir(voice_data_dir)\n",
    "\n",
    "for i in range(len(dir_actors)):\n",
    "    wavs = os.listdir(voice_data_dir + \"/\" + dir_actors[i])\n",
    "    for j in range(len(wavs)):\n",
    "        in_dir = voice_data_dir + \"/\" + dir_actors[i] + \"/\" + wavs[j]\n",
    "        out_dir = \"uniform_\" + in_dir\n",
    "        audio = AudioSegment.silent(duration=5500)\n",
    "        audio = audio.overlay(AudioSegment.from_wav(in_dir))\n",
    "        audio.export(out_dir, format='wav')"
   ]
  },
  {
   "cell_type": "code",
   "execution_count": 7,
   "metadata": {},
   "outputs": [
    {
     "output_type": "execute_result",
     "data": {
      "text/plain": [
       "(20, 474)"
      ]
     },
     "metadata": {},
     "execution_count": 7
    }
   ],
   "source": [
    "# After padding MFCC shape\n",
    "\n",
    "audio_file_name = 'uniform_voice_data/Actor_01/03-01-01-01-01-01-01.wav'\n",
    "y, sr = librosa.load(audio_file_name, sr=44100)\n",
    "mfcc = librosa.feature.mfcc(y=y, sr=sr)\n",
    "mfcc.shape"
   ]
  },
  {
   "source": [
    "## Next, generate MFCCs from the padded audioclips and store them in a numpy array"
   ],
   "cell_type": "markdown",
   "metadata": {}
  },
  {
   "cell_type": "code",
   "execution_count": 8,
   "metadata": {
    "tags": []
   },
   "outputs": [
    {
     "output_type": "execute_result",
     "data": {
      "text/plain": [
       "(13651200,)"
      ]
     },
     "metadata": {},
     "execution_count": 8
    }
   ],
   "source": [
    "x = np.array([])\n",
    "voice_data_dir = \"uniform_voice_data\"\n",
    "dir_actors = os.listdir(voice_data_dir)\n",
    "\n",
    "for i in range(len(dir_actors)):\n",
    "    wavs = os.listdir(voice_data_dir + \"/\" + dir_actors[i])\n",
    "    for j in range(len(wavs)):\n",
    "        wav_dir = voice_data_dir + \"/\" + dir_actors[i] + \"/\" + wavs[j]\n",
    "        y, sr = librosa.load(wav_dir, sr=44100)\n",
    "        mfcc = librosa.feature.mfcc(y=y, sr=sr)\n",
    "        x = np.append(x, mfcc)\n",
    "\n",
    "x.shape"
   ]
  },
  {
   "source": [
    "## Reorganize array to be proper dimensions\n",
    "Expected # of data points: (# actors) \\* (# clips) \\* (mfcc shape x) \\* (mfcc shape y) = 24 \\* 60 \\* 20 \\* 474 = 13651200"
   ],
   "cell_type": "markdown",
   "metadata": {}
  },
  {
   "cell_type": "code",
   "execution_count": 14,
   "metadata": {},
   "outputs": [
    {
     "output_type": "execute_result",
     "data": {
      "text/plain": [
       "(24, 60, 474, 20)"
      ]
     },
     "metadata": {},
     "execution_count": 14
    }
   ],
   "source": [
    "num_actors = 24\n",
    "num_wav = 60\n",
    "num_mfcc_x = mfcc[0].size\n",
    "num_mfcc_y = len(mfcc)\n",
    "\n",
    "x = x.reshape(num_actors, num_wav, num_mfcc_x, num_mfcc_y)\n",
    "x.shape"
   ]
  },
  {
   "source": [
    "## Export array to csv"
   ],
   "cell_type": "markdown",
   "metadata": {}
  },
  {
   "cell_type": "code",
   "execution_count": 13,
   "metadata": {},
   "outputs": [],
   "source": [
    "np.save(\"audio_data\", x)"
   ]
  }
 ]
}