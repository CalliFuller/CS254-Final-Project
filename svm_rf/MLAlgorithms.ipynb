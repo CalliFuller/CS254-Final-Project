{
 "cells": [
  {
   "cell_type": "markdown",
   "metadata": {},
   "source": [
    "# Machine Learning Algorithms for Audio Classification"
   ]
  },
  {
   "cell_type": "code",
   "execution_count": null,
   "metadata": {},
   "outputs": [],
   "source": [
    "import numpy as np\n",
    "import pandas as pd\n",
    "import matplotlib.pyplot as plt\n",
    "import librosa\n",
    "import librosa.display\n",
    "import sklearn as sk\n",
    "\n",
    "\n",
    "%matplotlib inline"
   ]
  },
  {
   "cell_type": "code",
   "execution_count": 128,
   "metadata": {},
   "outputs": [
    {
     "data": {
      "text/html": [
       "<div>\n",
       "<style scoped>\n",
       "    .dataframe tbody tr th:only-of-type {\n",
       "        vertical-align: middle;\n",
       "    }\n",
       "\n",
       "    .dataframe tbody tr th {\n",
       "        vertical-align: top;\n",
       "    }\n",
       "\n",
       "    .dataframe thead th {\n",
       "        text-align: right;\n",
       "    }\n",
       "</style>\n",
       "<table border=\"1\" class=\"dataframe\">\n",
       "  <thead>\n",
       "    <tr style=\"text-align: right;\">\n",
       "      <th></th>\n",
       "      <th>mfcc</th>\n",
       "      <th>gender</th>\n",
       "    </tr>\n",
       "  </thead>\n",
       "  <tbody>\n",
       "    <tr>\n",
       "      <th>0</th>\n",
       "      <td>[-855.3770751953125, -855.3770751953125, -855....</td>\n",
       "      <td>Male</td>\n",
       "    </tr>\n",
       "    <tr>\n",
       "      <th>1</th>\n",
       "      <td>[-850.3917236328125, -850.435791015625, -850.4...</td>\n",
       "      <td>Male</td>\n",
       "    </tr>\n",
       "    <tr>\n",
       "      <th>2</th>\n",
       "      <td>[-849.78369140625, -848.8447265625, -848.56610...</td>\n",
       "      <td>Male</td>\n",
       "    </tr>\n",
       "    <tr>\n",
       "      <th>3</th>\n",
       "      <td>[-842.9385375976562, -843.2474975585938, -850....</td>\n",
       "      <td>Male</td>\n",
       "    </tr>\n",
       "    <tr>\n",
       "      <th>4</th>\n",
       "      <td>[-911.1758422851562, -910.4053344726562, -905....</td>\n",
       "      <td>Male</td>\n",
       "    </tr>\n",
       "  </tbody>\n",
       "</table>\n",
       "</div>"
      ],
      "text/plain": [
       "                                                mfcc gender\n",
       "0  [-855.3770751953125, -855.3770751953125, -855....   Male\n",
       "1  [-850.3917236328125, -850.435791015625, -850.4...   Male\n",
       "2  [-849.78369140625, -848.8447265625, -848.56610...   Male\n",
       "3  [-842.9385375976562, -843.2474975585938, -850....   Male\n",
       "4  [-911.1758422851562, -910.4053344726562, -905....   Male"
      ]
     },
     "execution_count": 128,
     "metadata": {},
     "output_type": "execute_result"
    }
   ],
   "source": [
    "audio_data = np.load(\"audio_data.npy\")\n",
    "\n",
    "# 1440 files: 24 speakers, 60 recordings per speaker\n",
    "# alternate male/female so can accurately label gender of speaker with if statement below\n",
    "audio_data = audio_data.reshape(1440, 9480)\n",
    "\n",
    "features = []\n",
    "\n",
    "for i in range(1440):\n",
    "    if (i<60 or (i>120 and i<180) or (i>240 and i<300) or (i>360 and i<420) or (i>480 and i<540) or\n",
    "        (i>600 and i<660) or (i>720 and i<780) or (i>840 and i<900) or (i>960 and i<1020) or (i>1080 and i<1140)\n",
    "        or (i>1200 and i<1260) or (i>1320 and i<1380)):\n",
    "        label = \"Male\" \n",
    "    else:\n",
    "        label = \"Female\"\n",
    "    \n",
    "    features.append([audio_data[i], label])\n",
    "\n",
    "\n",
    "    \n",
    "feature_df = pd.DataFrame(features, columns = [\"mfcc\", \"gender\"])\n",
    "\n",
    "feature_df.head()"
   ]
  },
  {
   "cell_type": "code",
   "execution_count": 139,
   "metadata": {},
   "outputs": [],
   "source": [
    "X = np.array(feature_df.mfcc.tolist())\n",
    "\n",
    "Y = np.array(feature_df.gender.tolist())\n",
    "\n",
    "x_train, x_test, y_train, y_test = sk.model_selection.train_test_split(X, Y, test_size=0.25, random_state=0)\n",
    "\n",
    "# default C = 1.0, gamma =  1 / (n_features * X.var())\n",
    "svm = sk.svm.SVC()\n",
    "svm.fit(x_train, y_train)\n",
    "predictions = svm.predict(x_test)"
   ]
  },
  {
   "cell_type": "code",
   "execution_count": 140,
   "metadata": {},
   "outputs": [
    {
     "name": "stdout",
     "output_type": "stream",
     "text": [
      "   Male  Female\n",
      "0   174      13\n",
      "1     9     164\n"
     ]
    },
    {
     "data": {
      "image/png": "[encoded data removed]",
      "text/plain": [
       "<Figure size 720x288 with 1 Axes>"
      ]
     },
     "metadata": {
      "needs_background": "light"
     },
     "output_type": "display_data"
    }
   ],
   "source": [
    "cm = sk.metrics.confusion_matrix(y_test, predictions)\n",
    "\n",
    "df = pd.DataFrame(cm, columns=[Y[0], Y[60]])\n",
    "print(df)\n",
    "\n",
    "plt.figure(figsize=(10,4))\n",
    "plt.imshow(cm)\n",
    "plt.title(\"Confusion Matrix\")\n",
    "plt.show()"
   ]
  },
  {
   "cell_type": "code",
   "execution_count": 141,
   "metadata": {},
   "outputs": [
    {
     "name": "stdout",
     "output_type": "stream",
     "text": [
      "Precision: 0.9386866722237659\n",
      "              precision    recall  f1-score   support\n",
      "\n",
      "      Female       0.95      0.93      0.94       187\n",
      "        Male       0.93      0.95      0.94       173\n",
      "\n",
      "    accuracy                           0.94       360\n",
      "   macro avg       0.94      0.94      0.94       360\n",
      "weighted avg       0.94      0.94      0.94       360\n",
      "\n"
     ]
    }
   ],
   "source": [
    "def precision(confmatrix):\n",
    "    # precision = tp/(tp+fp)\n",
    "    tp = np.diag(cm)\n",
    "    fp = np.sum(cm, axis=0) - tp\n",
    "    precision = np.mean(tp/(tp+fp))\n",
    "    return precision\n",
    "\n",
    "svmprec = precision(cm)\n",
    "\n",
    "print(\"Precision: \" + str(svmprec))\n",
    "cr = sk.metrics.classification_report(y_test, predictions)\n",
    "print(cr)"
   ]
  }
 ],
 "metadata": {
  "kernelspec": {
   "display_name": "Python 3",
   "language": "python",
   "name": "python3"
  },
  "language_info": {
   "codemirror_mode": {
    "name": "ipython",
    "version": 3
   },
   "file_extension": ".py",
   "mimetype": "text/x-python",
   "name": "python",
   "nbconvert_exporter": "python",
   "pygments_lexer": "ipython3",
   "version": "3.8.3"
  }
 },
 "nbformat": 4,
 "nbformat_minor": 4
}
